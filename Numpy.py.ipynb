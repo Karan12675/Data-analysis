{
 "cells": [
  {
   "cell_type": "markdown",
   "id": "ed0b9ea5",
   "metadata": {},
   "source": [
    "# Numpy"
   ]
  },
  {
   "cell_type": "code",
   "execution_count": 1,
   "id": "e0f4e05a",
   "metadata": {},
   "outputs": [],
   "source": [
    "#Numpy\n",
    "# Numpy stands for numericaal python, its a core scientific computing Library provide multidimensional array\n",
    "\n",
    "# it also has function to work in domain of linear algebra, matrix etx\n",
    "# Its open source\n",
    "# Its was devloped in C programming Language\n",
    "# we can create array in numpy"
   ]
  },
  {
   "cell_type": "code",
   "execution_count": 2,
   "id": "dddccba5",
   "metadata": {},
   "outputs": [
    {
     "name": "stdout",
     "output_type": "stream",
     "text": [
      "hetrogeneous : ['11' 'yo' 'True']\n",
      "homogeneous : [1 2 3]\n",
      "1 1\n"
     ]
    }
   ],
   "source": [
    "import numpy as np\n",
    "# hetrogeneous\n",
    "hetro=np.array([11,\"yo\",True])\n",
    "print(\"hetrogeneous :\",hetro)\n",
    "# homogeneous\n",
    "homo=np.array([1,2,3])\n",
    "print(\"homogeneous :\",homo)\n",
    "print(hetro.ndim,homo.ndim)"
   ]
  },
  {
   "cell_type": "markdown",
   "id": "ef373703",
   "metadata": {},
   "source": [
    "# 0d array"
   ]
  },
  {
   "cell_type": "code",
   "execution_count": 3,
   "id": "1863f8b7",
   "metadata": {},
   "outputs": [
    {
     "name": "stdout",
     "output_type": "stream",
     "text": [
      "42\n"
     ]
    },
    {
     "data": {
      "text/plain": [
       "(None, 0)"
      ]
     },
     "execution_count": 3,
     "metadata": {},
     "output_type": "execute_result"
    }
   ],
   "source": [
    "import numpy as np\n",
    "a=np.array(42)\n",
    "print(a),a.ndim\n",
    "# 0 dimensional array"
   ]
  },
  {
   "cell_type": "markdown",
   "id": "901b6765",
   "metadata": {},
   "source": [
    "# 1d array"
   ]
  },
  {
   "cell_type": "code",
   "execution_count": 4,
   "id": "55ef02fb",
   "metadata": {},
   "outputs": [
    {
     "name": "stdout",
     "output_type": "stream",
     "text": [
      "[10 20 30 40 50]\n",
      "1\n",
      "(5,) it contains 5 0d array\n"
     ]
    }
   ],
   "source": [
    "import numpy as np\n",
    "arr=np.array([10,20,30,40,50],np.int32)\n",
    "print(arr)\n",
    "print(arr.ndim)\n",
    "print(arr.shape,\"it contains 5 0d array\")"
   ]
  },
  {
   "cell_type": "markdown",
   "id": "eed38156",
   "metadata": {},
   "source": [
    "# 2d array\n"
   ]
  },
  {
   "cell_type": "code",
   "execution_count": 5,
   "id": "217206a5",
   "metadata": {},
   "outputs": [
    {
     "name": "stdout",
     "output_type": "stream",
     "text": [
      "[[10 20 30 40 50]\n",
      " [10 20 30 40 50]\n",
      " [10 20 30 40 50]\n",
      " [10 20 30 40 50]]\n",
      "2\n",
      "(4, 5) it has 4 1d arrays, 5 0d array\n"
     ]
    }
   ],
   "source": [
    "a=[[10,20,30,40,50],\n",
    "   [10,20,30,40,50],\n",
    "   [10,20,30,40,50],\n",
    "   [10,20,30,40,50]]\n",
    "arr= np.array(a)\n",
    "print(arr)\n",
    "print(arr.ndim)\n",
    "print(arr.shape,\"it has 4 1d arrays, 5 0d array\")\n"
   ]
  },
  {
   "cell_type": "markdown",
   "id": "e8801fa7",
   "metadata": {},
   "source": [
    "# 3d array"
   ]
  },
  {
   "cell_type": "code",
   "execution_count": 6,
   "id": "f852995f",
   "metadata": {},
   "outputs": [
    {
     "name": "stdout",
     "output_type": "stream",
     "text": [
      "[[[10 20 30 40 50]\n",
      "  [10 20 30 40 50]\n",
      "  [10 20 30 40 50]\n",
      "  [10 20 30 40 50]]\n",
      "\n",
      " [[10 20 30 40 50]\n",
      "  [10 20 30 40 50]\n",
      "  [10 20 30 40 50]\n",
      "  [10 20 30 40 50]]\n",
      "\n",
      " [[10 20 30 40 50]\n",
      "  [10 20 30 40 50]\n",
      "  [10 20 30 40 50]\n",
      "  [10 20 30 40 50]]]\n",
      "3\n",
      "(3, 4, 5) it has 3 2d array, 4 1d array, and 5 0d array\n"
     ]
    }
   ],
   "source": [
    " a=[[[10,20,30,40,50],[10,20,30,40,50],[10,20,30,40,50],[10,20,30,40,50]],\n",
    "[[10,20,30,40,50],[10,20,30,40,50],[10,20,30,40,50],[10,20,30,40,50]],\n",
    "[[10,20,30,40,50],[10,20,30,40,50],[10,20,30,40,50],[10,20,30,40,50]]]\n",
    "\n",
    "arr= np.array(a)\n",
    "print(arr)\n",
    "print(arr.ndim)\n",
    "print(arr.shape,\"it has 3 2d array, 4 1d array, and 5 0d array\")"
   ]
  },
  {
   "cell_type": "code",
   "execution_count": null,
   "id": "485bce58",
   "metadata": {},
   "outputs": [],
   "source": []
  },
  {
   "cell_type": "markdown",
   "id": "b3b86c04",
   "metadata": {},
   "source": [
    "# 5 mechanism for creating numpy array\n",
    "conversion from other python structres such as list, tuples etc"
   ]
  },
  {
   "cell_type": "code",
   "execution_count": 7,
   "id": "167e7c63",
   "metadata": {},
   "outputs": [
    {
     "data": {
      "text/plain": [
       "((3,), dtype('int8'), 1, 3)"
      ]
     },
     "execution_count": 7,
     "metadata": {},
     "output_type": "execute_result"
    }
   ],
   "source": [
    "listarray=np.array([1,2,3],np.int8) # you can use np.int to select bits\n",
    "listarray.shape,listarray.dtype,listarray.ndim,listarray.size\n",
    "# in 1 d we will have only rows so it will be 3 rows"
   ]
  },
  {
   "cell_type": "markdown",
   "id": "18a73aad",
   "metadata": {},
   "source": [
    "listarray2=np.array([[0,1,2],[3,4,5]],np.int8)\n",
    "print(listarray2)\n",
    "print(listarray2[0,2])\n",
    "listarray2.shape,listarray2.dtype,listarray2.ndim,listarray2.size"
   ]
  },
  {
   "cell_type": "markdown",
   "id": "df8402bb",
   "metadata": {},
   "source": [
    "# Creating arrray of zeros"
   ]
  },
  {
   "cell_type": "code",
   "execution_count": 8,
   "id": "1f078a04",
   "metadata": {},
   "outputs": [
    {
     "name": "stdout",
     "output_type": "stream",
     "text": [
      "[[0. 0. 0.]\n",
      " [0. 0. 0.]\n",
      " [0. 0. 0.]]\n"
     ]
    },
    {
     "data": {
      "text/plain": [
       "((3, 3), 2)"
      ]
     },
     "execution_count": 8,
     "metadata": {},
     "output_type": "execute_result"
    }
   ],
   "source": [
    "zeroarray=np.zeros((3,3))\n",
    "print(zeroarray)\n",
    "# this will create a array of 3 X 3 with zeros as it's elements\n",
    "zeroarray.shape,zeroarray.ndim"
   ]
  },
  {
   "cell_type": "markdown",
   "id": "84fc8ef9",
   "metadata": {},
   "source": [
    "# creating array with arange"
   ]
  },
  {
   "cell_type": "code",
   "execution_count": 9,
   "id": "22299903",
   "metadata": {},
   "outputs": [
    {
     "name": "stdout",
     "output_type": "stream",
     "text": [
      "[0 1 2 3 4]\n",
      "(5,)\n",
      "1\n"
     ]
    }
   ],
   "source": [
    "rangearray=np.arange(5)\n",
    "print(rangearray)\n",
    "print(rangearray.shape)\n",
    "print(rangearray.ndim)\n"
   ]
  },
  {
   "cell_type": "markdown",
   "id": "603390d0",
   "metadata": {},
   "source": [
    "# linspace array"
   ]
  },
  {
   "cell_type": "code",
   "execution_count": 10,
   "id": "ceec9c99",
   "metadata": {},
   "outputs": [
    {
     "name": "stdout",
     "output_type": "stream",
     "text": [
      "[1.         1.33333333 1.66666667 2.        ]\n"
     ]
    }
   ],
   "source": [
    "linarray=np.linspace(1,2,4) # it will give me 4 elements with equal linear space between 1 and 2\n",
    "print(linarray)"
   ]
  },
  {
   "cell_type": "code",
   "execution_count": 11,
   "id": "3cb05403",
   "metadata": {},
   "outputs": [
    {
     "name": "stdout",
     "output_type": "stream",
     "text": [
      "[1.         1.44444444 1.88888889 2.33333333 2.77777778 3.22222222\n",
      " 3.66666667 4.11111111 4.55555556 5.        ]\n",
      "(10,)\n"
     ]
    }
   ],
   "source": [
    "# let me show you anothert example\n",
    "linarray2=np.linspace(1,5,10)\n",
    "print(linarray2)\n",
    "print(linarray2.shape)"
   ]
  },
  {
   "cell_type": "markdown",
   "id": "9dbfc3d9",
   "metadata": {},
   "source": [
    "# empty array- create array of random no's"
   ]
  },
  {
   "cell_type": "code",
   "execution_count": 12,
   "id": "22aa59ad",
   "metadata": {},
   "outputs": [
    {
     "name": "stdout",
     "output_type": "stream",
     "text": [
      "[[1.         1.33333333]\n",
      " [1.66666667 2.        ]]\n"
     ]
    }
   ],
   "source": [
    "emparray=np.empty((2,2))\n",
    "print(emparray)"
   ]
  },
  {
   "cell_type": "markdown",
   "id": "7f97d02c",
   "metadata": {},
   "source": [
    "# empty_like array- creates the same size of array u give with random no's"
   ]
  },
  {
   "cell_type": "code",
   "execution_count": 13,
   "id": "7108f39e",
   "metadata": {},
   "outputs": [
    {
     "name": "stdout",
     "output_type": "stream",
     "text": [
      "[120   0 -90]\n"
     ]
    }
   ],
   "source": [
    "emplikearray=np.empty_like(listarray) # i pastly created list array which i used in this function.\n",
    "print(emplikearray)# this function copied the size and shape of the list array and created a new array with random no's"
   ]
  },
  {
   "cell_type": "markdown",
   "id": "42cc72c2",
   "metadata": {},
   "source": [
    "# Identity array"
   ]
  },
  {
   "cell_type": "code",
   "execution_count": 14,
   "id": "7d1c50f8",
   "metadata": {},
   "outputs": [
    {
     "name": "stdout",
     "output_type": "stream",
     "text": [
      "[[1. 0. 0.]\n",
      " [0. 1. 0.]\n",
      " [0. 0. 1.]]\n"
     ]
    }
   ],
   "source": [
    "idarray=np.identity(3) # this gave yje identity array of 3X3\n",
    "print(idarray)"
   ]
  },
  {
   "cell_type": "markdown",
   "id": "28ada93f",
   "metadata": {},
   "source": [
    "# reshaping array"
   ]
  },
  {
   "cell_type": "code",
   "execution_count": 15,
   "id": "fb833ab3",
   "metadata": {},
   "outputs": [
    {
     "name": "stdout",
     "output_type": "stream",
     "text": [
      "[0 1 2 3 4 5 6 7 8]\n",
      "1\n",
      "[[0 1 2]\n",
      " [3 4 5]\n",
      " [6 7 8]]\n",
      "2\n",
      "[0 1 2 3 4 5 6 7 8]\n",
      "1\n"
     ]
    }
   ],
   "source": [
    "array3=np.arange(9)\n",
    "print(array3)\n",
    "print(array3.ndim)\n",
    "array4=array3.reshape(3,3)\n",
    "print(array4)\n",
    "print(array4.ndim)\n",
    "array5=array4.ravel()\n",
    "print(array5)\n",
    "print(array5.ndim)"
   ]
  },
  {
   "cell_type": "markdown",
   "id": "c825597b",
   "metadata": {},
   "source": [
    "# Transpose an array"
   ]
  },
  {
   "cell_type": "code",
   "execution_count": 16,
   "id": "aa73165c",
   "metadata": {},
   "outputs": [
    {
     "name": "stdout",
     "output_type": "stream",
     "text": [
      "[[1 2 3]\n",
      " [4 5 6]\n",
      " [7 8 9]]\n",
      "[[1 4 7]\n",
      " [2 5 8]\n",
      " [3 6 9]]\n"
     ]
    }
   ],
   "source": [
    "x=np.array([[1,2,3],[4,5,6],[7,8,9]])\n",
    "print(x)\n",
    "print(x.T)"
   ]
  },
  {
   "cell_type": "code",
   "execution_count": 17,
   "id": "d941db8c",
   "metadata": {},
   "outputs": [],
   "source": [
    "#  xx=x.flat\n",
    "# for item in xx:\n",
    "#     print(item)"
   ]
  },
  {
   "cell_type": "code",
   "execution_count": 18,
   "id": "d96c684e",
   "metadata": {},
   "outputs": [
    {
     "name": "stdout",
     "output_type": "stream",
     "text": [
      "2\n",
      "0\n"
     ]
    },
    {
     "data": {
      "text/plain": [
       "array([0, 1, 3, 2], dtype=int64)"
      ]
     },
     "execution_count": 18,
     "metadata": {},
     "output_type": "execute_result"
    }
   ],
   "source": [
    "y=np.array([20,55,444,333])\n",
    "print(y.argmax()) # give the index value wherebthere is the largest value\n",
    "print(y.argmin()) # give the index value where the smallest value is available\n",
    "y.argsort() # sort ntje index values of the array in ascending order"
   ]
  },
  {
   "cell_type": "code",
   "execution_count": 19,
   "id": "9b4cc331",
   "metadata": {},
   "outputs": [
    {
     "name": "stdout",
     "output_type": "stream",
     "text": [
      "[[1 2 3]\n",
      " [4 5 6]\n",
      " [7 8 9]]\n",
      "8\n",
      "0\n",
      "[[0 1 2]\n",
      " [0 1 2]\n",
      " [0 1 2]]\n"
     ]
    }
   ],
   "source": [
    "x1=np.array([[1,2,3],[4,5,6],[7,8,9]])\n",
    "print(x1)\n",
    "print(x1.argmax()) # it will take all elements of an array in a single line and then give the index value of the highest element\n",
    "print(x1.argmin())\n",
    "print(x1.argsort())"
   ]
  },
  {
   "cell_type": "code",
   "execution_count": 20,
   "id": "564c8099",
   "metadata": {},
   "outputs": [
    {
     "name": "stdout",
     "output_type": "stream",
     "text": [
      "[[1 2 3]\n",
      " [4 5 6]\n",
      " [7 8 9]]\n",
      "[2 2 2]\n"
     ]
    }
   ],
   "source": [
    "# arg functions usiong axis\n",
    "print(x1)\n",
    "print(x1.argmax(axis=0))"
   ]
  },
  {
   "cell_type": "markdown",
   "id": "a2f270e5",
   "metadata": {},
   "source": [
    "# Mathematical functions using numpy"
   ]
  },
  {
   "cell_type": "code",
   "execution_count": 21,
   "id": "8e7102ff",
   "metadata": {},
   "outputs": [
    {
     "name": "stdout",
     "output_type": "stream",
     "text": [
      "[[1 2 3]\n",
      " [4 5 6]\n",
      " [7 8 9]]\n",
      "[[11 22 33]\n",
      " [44 55 66]\n",
      " [77 88 99]]\n",
      "[[ 12  24  36]\n",
      " [ 48  60  72]\n",
      " [ 84  96 108]] addition\n",
      "[[ 11  44  99]\n",
      " [176 275 396]\n",
      " [539 704 891]] multiplication\n"
     ]
    }
   ],
   "source": [
    "# lets add two matrices\n",
    "a=np.array([[1,2,3],[4,5,6],[7,8,9]])\n",
    "b=np.array([[11,22,33],[44,55,66],[77,88,99]])\n",
    "print(a)\n",
    "print(b)\n",
    "print(a+b,'addition')\n",
    "print(a*b,\"multiplication\")"
   ]
  },
  {
   "cell_type": "code",
   "execution_count": 22,
   "id": "0ecbec1a",
   "metadata": {},
   "outputs": [
    {
     "name": "stdout",
     "output_type": "stream",
     "text": [
      "[[ 1  4  9]\n",
      " [16 25 36]\n",
      " [49 64 81]]\n"
     ]
    }
   ],
   "source": [
    "# taking eelement wise square root in numpy\n",
    "c=np.square(a)\n",
    "print(c)"
   ]
  },
  {
   "cell_type": "markdown",
   "id": "25e31d97",
   "metadata": {},
   "source": [
    "# find elements"
   ]
  },
  {
   "cell_type": "code",
   "execution_count": 23,
   "id": "840a5bbd",
   "metadata": {},
   "outputs": [
    {
     "name": "stdout",
     "output_type": "stream",
     "text": [
      "[[1 2 3]\n",
      " [4 5 6]\n",
      " [7 8 9]]\n",
      "(array([1, 2, 2, 2], dtype=int64), array([2, 0, 1, 2], dtype=int64))\n"
     ]
    }
   ],
   "source": [
    "print(a)\n",
    "print(np.where(a>5))"
   ]
  },
  {
   "cell_type": "markdown",
   "id": "c43c66e9",
   "metadata": {},
   "source": [
    "# changing elements in a array"
   ]
  },
  {
   "cell_type": "code",
   "execution_count": 24,
   "id": "387ce972",
   "metadata": {},
   "outputs": [
    {
     "name": "stdout",
     "output_type": "stream",
     "text": [
      "[[1 2 3]\n",
      " [4 5 6]\n",
      " [7 8 9]]\n",
      "[[1 2 3]\n",
      " [4 5 6]\n",
      " [7 8 0]] changed values\n",
      "2\n"
     ]
    }
   ],
   "source": [
    "x2=np.array([[1,2,3],[4,5,6],[7,8,9]])\n",
    "print(x2)\n",
    "x2[2][2]=0\n",
    "print(x2, \"changed values\")\n",
    "print(x2.ndim)\n"
   ]
  }
 ],
 "metadata": {
  "kernelspec": {
   "display_name": "Python 3 (ipykernel)",
   "language": "python",
   "name": "python3"
  },
  "language_info": {
   "codemirror_mode": {
    "name": "ipython",
    "version": 3
   },
   "file_extension": ".py",
   "mimetype": "text/x-python",
   "name": "python",
   "nbconvert_exporter": "python",
   "pygments_lexer": "ipython3",
   "version": "3.11.5"
  }
 },
 "nbformat": 4,
 "nbformat_minor": 5
}
